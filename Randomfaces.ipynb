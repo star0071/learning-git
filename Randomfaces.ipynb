{
 "cells": [
  {
   "cell_type": "code",
   "execution_count": 4,
   "metadata": {},
   "outputs": [
    {
     "name": "stdout",
     "output_type": "stream",
     "text": [
      "(200, 5695)\n"
     ]
    },
    {
     "data": {
      "image/png": "[encoded data removed]",
      "text/plain": [
       "<matplotlib.figure.Figure at 0x21d00023ef0>"
      ]
     },
     "metadata": {
      "needs_background": "light"
     },
     "output_type": "display_data"
    }
   ],
   "source": [
    "from skimage import io\n",
    "import matplotlib.pyplot as plt\n",
    "import numpy as np\n",
    "import os\n",
    "import pandas as pd\n",
    "\n",
    "def randomfaces(d,m):\n",
    "    ## create a matrix d*m to hold the resault\n",
    "    matrix_one = np.empty([d,m])\n",
    "    ## the random matrix \n",
    "    matrix = np.random.randn(d,m)\n",
    "    ## create an empty array\n",
    "    l2 = np.empty([d,1])\n",
    "    ## compute the l2 norm in each row\n",
    "    for i in range(np.shape(matrix)[0]):\n",
    "        l2[i] = np.linalg.norm(matrix[i,:],ord=2)\n",
    "    ## divide each row by l2\n",
    "    for i in range(np.shape(matrix)[0]):\n",
    "        matrix_one[i,:] = (matrix[i,:]/l2[i]).reshape(-1)\n",
    "    ## aha!\n",
    "    return matrix_one\n",
    "\n",
    "def showEigFace(Eig, row, col):\n",
    "    plt.figure()\n",
    "    for index in range(row * col):\n",
    "        plt.subplot(row, col, index + 1)\n",
    "        plt.imshow(Eig[:, index].reshape(10,20).T, cmap=\"gray\")\n",
    "    plt.show()\n",
    "    \n",
    "if __name__ == \"__main__\":\n",
    "#     faces_cls = os.listdir(root)\n",
    "#     faces_img_path = [os.path.join(root, cls, '1.pgm') for cls in faces_cls]\n",
    "    \n",
    "#     origin = io.imread(faces_img_path[0])\n",
    "    \n",
    "#     print(origin.shape)\n",
    "    \n",
    "    test = pd.read_csv('test.csv')\n",
    "    test = np.array(test)\n",
    "    test_ones = np.ones((5695,), dtype=int)\n",
    "    test_new = np.row_stack((test, test_ones)) \n",
    "    test_new = np.array(test_new)\n",
    "    \n",
    "#     print(origin.shape[0]*origin.shape[1])\n",
    "#     X = make_input(faces_img_path)\n",
    "#     print(X.shape)\n",
    "#     matrix_one = []\n",
    "#     matrix_one = np.array(matrix_one)\n",
    "    matrix_one = randomfaces(200,1024)\n",
    "    eig_vec = np.dot(matrix_one,test_new)\n",
    "    print(eig_vec.shape)\n",
    "    showEigFace(eig_vec, 2, 3)"
   ]
  }
 ],
 "metadata": {
  "kernelspec": {
   "display_name": "Python 3",
   "language": "python",
   "name": "python3"
  },
  "language_info": {
   "codemirror_mode": {
    "name": "ipython",
    "version": 3
   },
   "file_extension": ".py",
   "mimetype": "text/x-python",
   "name": "python",
   "nbconvert_exporter": "python",
   "pygments_lexer": "ipython3",
   "version": "3.6.2"
  }
 },
 "nbformat": 4,
 "nbformat_minor": 2
}
